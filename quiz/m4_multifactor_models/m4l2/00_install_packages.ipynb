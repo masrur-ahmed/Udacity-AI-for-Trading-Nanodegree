{
 "cells": [
  {
   "cell_type": "markdown",
   "metadata": {},
   "source": [
    "# Install libraries for all code exercises in this lesson\n",
    "\n",
    "It takes about 8 to 9 minutes to install the libraries that are used in the exercises of this lesson.  To make your learning experience a bit smoother, please open this page in a new tab and run this code cell to install, then in your original page, continue onto the next video as the installation is running.  You should only have to install once for this lesson.  If you do \"menu\"->\"reset data\" at some point, you will have to reinstall the libraries again."
   ]
  },
  {
   "cell_type": "code",
   "execution_count": null,
   "metadata": {},
   "outputs": [],
   "source": [
    "import sys\n",
    "!{sys.executable} -m pip install -r requirements.txt"
   ]
  }
 ],
 "metadata": {
  "kernelspec": {
   "display_name": "Python 3",
   "language": "python",
   "name": "python3"
  },
  "language_info": {
   "codemirror_mode": {
    "name": "ipython",
    "version": 3
   },
   "file_extension": ".py",
   "mimetype": "text/x-python",
   "name": "python",
   "nbconvert_exporter": "python",
   "pygments_lexer": "ipython3",
   "version": "3.6.3"
  }
 },
 "nbformat": 4,
 "nbformat_minor": 2
}
